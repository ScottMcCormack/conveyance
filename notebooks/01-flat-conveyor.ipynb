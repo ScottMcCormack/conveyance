{
 "cells": [
  {
   "cell_type": "code",
   "execution_count": 1,
   "metadata": {
    "collapsed": true
   },
   "outputs": [],
   "source": [
    "import math\n",
    "from conveyance import cross_section, belt_capacity\n",
    "\n",
    "g = 9.81  # Gravity"
   ]
  },
  {
   "cell_type": "code",
   "execution_count": 2,
   "outputs": [
    {
     "name": "stdout",
     "output_type": "stream",
     "text": [
      "s1:\t0.0445 m^2\n",
      "s2:\t0.1357 m^2\n",
      "s:\t0.180 m^2\n"
     ]
    }
   ],
   "source": [
    "# Cross-sectional area of material on belt\n",
    "B = 1.2  # Total width of belt\n",
    "b = 1.03  # Width of max material on belt\n",
    "l3 = 0.436  #  Width of the idler (3 roll set)\n",
    "ia = 45  # Idlers angle\n",
    "sa = 20  # Material surcharge angle, coal\n",
    "\n",
    "s1 = cross_section._upper_belt_ca(l3, b, ia, sa)\n",
    "print(f\"s1:\\t{s1:.4f} m^2\")\n",
    "\n",
    "s2 = cross_section._lower_belt_ca(l3, b, ia)\n",
    "print(f\"s2:\\t{s2:.4f} m^2\")\n",
    "\n",
    "s = s1 + s2\n",
    "print(f\"s:\\t{s:.3f} m^2\")"
   ],
   "metadata": {
    "collapsed": false,
    "pycharm": {
     "name": "#%%\n"
    }
   }
  },
  {
   "cell_type": "code",
   "execution_count": 3,
   "outputs": [
    {
     "name": "stdout",
     "output_type": "stream",
     "text": [
      "q_vt:\t0.865 m^3/s\n",
      "q_mt:\t153 kg/m\n",
      "q_t:\t2643.84 t/h\n",
      "q_m:\t133.1 kg/m\n",
      "q_v:\t0.7516 m^3/s\n"
     ]
    }
   ],
   "source": [
    "# Resistances\n",
    "v = 4.8  # Belt speed (m/s)\n",
    "p = 0.85  # Density, coal (t/m^3)\n",
    "v_0 = 0  # Speed of conveyed material (m/s)\n",
    "\n",
    "# q_vt: Theoretical flow rate,\n",
    "q_vt = cross_section.belt_capacity(belt_ca=s, v=v)  # Capacity, theoretical (m^3/s)\n",
    "print(f\"q_vt:\\t{q_vt:.3f} m^3/s\")\n",
    "\n",
    "# q_mt: Theoretical capacity, mass per m  (kg/m)\n",
    "q_mt = belt_capacity.mass_density_material(v=v, q_v=q_vt, p=p)\n",
    "print(f\"q_mt:\\t{q_mt:.0f} kg/m\")\n",
    "\n",
    "# q_t: Theoretical capacity, mass per hour  (t/h)\n",
    "q_vt = 0.864  # Set to 0.864\n",
    "q_t = q_vt * (p * 1000) * (3600 / 1000)\n",
    "print(f\"q_t:\\t{q_t:.2f} t/h\")\n",
    "\n",
    "# q_m: Actual capacity, mass per m (kg/m)\n",
    "q = 2300  # Capacity, assumed (87% of q_vt)\n",
    "q_m = belt_capacity.mass_density_material(v, q=q)\n",
    "print(f\"q_m:\\t{q_m:.1f} kg/m\")\n",
    "\n",
    "# q_v: Actual capacity, volume per second (m^3/s)\n",
    "q_v = (1000 * q) / (3600 * p * 1000)\n",
    "print(f\"q_v:\\t{q_v:.4f} m^3/s\")"
   ],
   "metadata": {
    "collapsed": false,
    "pycharm": {
     "name": "#%%\n"
    }
   }
  },
  {
   "cell_type": "code",
   "execution_count": 4,
   "outputs": [
    {
     "name": "stdout",
     "output_type": "stream",
     "text": [
      "q_ro:\t12.92 kg/m\n",
      "q_ru:\t4.40 kg/m\n"
     ]
    }
   ],
   "source": [
    "a_o = 1.2  # Carry idler spacing (m)\n",
    "m_o = 15.5  # Carry idler mass (kg)\n",
    "\n",
    "a_u = 3.0  # Return idler spacing (m)\n",
    "m_u = 13.2  # Return idler mass (kg)\n",
    "\n",
    "# q_ro: Mass of revolving idler parts on carry side, kg/m\n",
    "q_ro = belt_capacity.mass_density_idler(a_o, m_o)\n",
    "print(f\"q_ro:\\t{q_ro:.2f} kg/m\")\n",
    "\n",
    "# q_ru: Mass of revolving idler parts on return side, kg/m\n",
    "q_ru = belt_capacity.mass_density_idler(a_u, m_u)\n",
    "print(f\"q_ru:\\t{q_ru:.2f} kg/m\")"
   ],
   "metadata": {
    "collapsed": false,
    "pycharm": {
     "name": "#%%\n"
    }
   }
  },
  {
   "cell_type": "code",
   "execution_count": 5,
   "outputs": [
    {
     "name": "stdout",
     "output_type": "stream",
     "text": [
      "f_h:\t5142.73 N\n",
      "f_st:\t0.0 N\n"
     ]
    }
   ],
   "source": [
    "q_b = 16.44  # Belt mass (kg/m)\n",
    "install_a = 0  # Installation angle of the conveyor (deg)\n",
    "conveyor_length = 143  # Center-to-centre length of the conveyor\n",
    "ff = 0.02  # Artificial friction factor (average operating conditions)\n",
    "\n",
    "# f_h: Calculate the main resistance (Fh)\n",
    "f_h = ff * conveyor_length * g * (q_ro + q_ru + (2 * q_b + q_m) * math.cos(math.radians(install_a)))\n",
    "print(f\"f_h:\\t{f_h:.2f} N\")\n",
    "\n",
    "# f_st: Calculate the gravity forces (Fst)\n",
    "H = 0  # Conveyor lift (m)\n",
    "f_st = q_m * H * g\n",
    "print(f\"f_st:\\t{f_st:.1f} N\")"
   ],
   "metadata": {
    "collapsed": false,
    "pycharm": {
     "name": "#%%\n"
    }
   }
  },
  {
   "cell_type": "code",
   "execution_count": 6,
   "outputs": [
    {
     "name": "stdout",
     "output_type": "stream",
     "text": [
      "f_ba:\t3066.7 N\n",
      "i_bmin:\t2.349 m\n",
      "f_f:\t2390.38 N\n",
      "f_1t:\t360 N\n",
      "f_n:\t6177.05 N\n"
     ]
    }
   ],
   "source": [
    "# Calculate the secondary resistance\n",
    "\n",
    "# f_ba: Inertial and friction resistance at the loading point and\n",
    "# in the acceleration area between the material handled and the belt (FbA)\n",
    "f_ba = q_v * p * 1000 * (v - v_0)\n",
    "print(f\"f_ba:\\t{f_ba:.1f} N\")\n",
    "\n",
    "mu1 = 0.5  # Coefficients between material/belt\n",
    "mu2 = 0.7  # Coefficients between material/skirtplates\n",
    "b1 = 0.75  # Width between skirtplates\n",
    "\n",
    "# f_f: Resistance between handled material and skirtplates in acceleration area (Ff)\n",
    "i_bmin = (v ** 2 - v_0 ** 2) / (2 * g * mu1)\n",
    "print(f\"i_bmin:\\t{i_bmin:.3f} m\")\n",
    "f_f = (mu2 * q_v ** 2 * p * 1000 * g * i_bmin) / (((v + v_0) / 2) ** 2 * b1 ** 2)\n",
    "print(f\"f_f:\\t{f_f:.2f} N\")\n",
    "\n",
    "wrap_a = 90\n",
    "alpha_1 = 180 - wrap_a\n",
    "\n",
    "# Wrap resistance between the belt and the pulleys (F1t)\n",
    "f_1t = 300 * B * math.sin(math.radians(alpha_1))\n",
    "print(f\"f_1t:\\t{f_1t:.0f} N\")\n",
    "\n",
    "# f_n: Calculate Secondary resistance (FN)\n",
    "# Note: (2 * f_1t) occurs because the tension on the  head (F1) and tail (Ft) pulleys\n",
    "f_n = f_ba + f_f + (2 * f_1t)\n",
    "print(f\"f_n:\\t{f_n:.2f} N\")"
   ],
   "metadata": {
    "collapsed": false,
    "pycharm": {
     "name": "#%%\n"
    }
   }
  },
  {
   "cell_type": "code",
   "execution_count": 7,
   "outputs": [
    {
     "name": "stdout",
     "output_type": "stream",
     "text": [
      "f_gl:\t1221.34 N\n",
      "f_rc:\t691.2 N\n",
      "f_s:\t1912.54 N\n"
     ]
    }
   ],
   "source": [
    "# Calculate the special resistance (Fs)\n",
    "l_s = 4.8  # Length of installation fitted with skirtplates\n",
    "\n",
    "# f_ep: Resistance due to idler tilting\n",
    "f_ep = 0\n",
    "\n",
    "# f_gl: Resistance due to friction between the material handled and skirt plates\n",
    "f_gl = (mu2 * (q_v ** 2) * (p * 1000) * g * l_s) / ((v ** 2) * (b1 ** 2))\n",
    "print(f\"f_gl:\\t{f_gl:.2f} N\")\n",
    "\n",
    "# f_rc: Friction resistance due to belt cleaners fitted to the conveyor\n",
    "mu3 = 0.6  # Friction coefficient between belt and cleaner\n",
    "bc_w = 1.2  # Belt cleaner width (m)\n",
    "bc_t = 8 / 1000  # Belt cleaner thickness (m)\n",
    "bc_p = 3 * 10 ** 4  # Pressure between cleaner and belt\n",
    "bc_n = 4  # Number of belt cleaners (three at head end, one at tail end)\n",
    "\n",
    "f_rc = bc_w * bc_t * bc_p * bc_n * mu3\n",
    "print(f\"f_rc:\\t{f_rc:.1f} N\")\n",
    "\n",
    "# f_a: Resistance due to friction at a discharge plough\n",
    "f_a = 0  # No discharge ploughs present\n",
    "\n",
    "# f_s: Special resistance\n",
    "f_s = f_ep + f_gl + f_rc + f_a\n",
    "print(f\"f_s:\\t{f_s:.2f} N\")"
   ],
   "metadata": {
    "collapsed": false,
    "pycharm": {
     "name": "#%%\n"
    }
   }
  },
  {
   "cell_type": "code",
   "execution_count": 8,
   "outputs": [
    {
     "name": "stdout",
     "output_type": "stream",
     "text": [
      "f_bs_min_o:\t22005 N\n",
      "f_bs_min_u:\t3024 N\n"
     ]
    }
   ],
   "source": [
    "# Calculate the belt sag tension forces\n",
    "# Note: Is the minimum tensile force to limit belt sag between 2 sets of idlers\n",
    "\n",
    "h_a_o = 0.01  # Allowable belt sag, carry side\n",
    "# f_bs_min_o: Min tensile force to prevent belt sag, carry side\n",
    "f_bs_min_o = (a_o * (q_b + q_m) * g) / (8 * h_a_o)\n",
    "print(f\"f_bs_min_o:\\t{f_bs_min_o:.0f} N\")\n",
    "\n",
    "h_a_u = 0.02  # Allowable belt sag, return side\n",
    "# f_bs_min_u: Min tensile force to prevent belt sag, return side\n",
    "f_bs_min_u = (a_u * q_b * g) / (8 * h_a_u)\n",
    "print(f\"f_bs_min_u:\\t{f_bs_min_u:.0f} N\")"
   ],
   "metadata": {
    "collapsed": false,
    "pycharm": {
     "name": "#%%\n"
    }
   }
  },
  {
   "cell_type": "code",
   "execution_count": 9,
   "outputs": [
    {
     "name": "stdout",
     "output_type": "stream",
     "text": [
      "f_u:\t13232.32 N\n"
     ]
    }
   ],
   "source": [
    "# Calculate the peripheral driving force on driving pulley\n",
    "f_u = f_h + f_n + f_s + f_st\n",
    "print(f\"f_u:\\t{f_u:.2f} N\")"
   ],
   "metadata": {
    "collapsed": false,
    "pycharm": {
     "name": "#%%\n"
    }
   }
  },
  {
   "cell_type": "code",
   "execution_count": 10,
   "outputs": [
    {
     "name": "stdout",
     "output_type": "stream",
     "text": [
      "p_a:\t63.52 kW\n",
      "p_m:\t68.93 kW\n"
     ]
    }
   ],
   "source": [
    "# Calculate the power requirements\n",
    "\n",
    "# p_a: Drive pulley power requirements\n",
    "p_a = f_u * v\n",
    "print(f\"p_a:\\t{p_a / 1000:.2f} kW\")\n",
    "\n",
    "d_eta_1 = 0.95  # Fluid coupling efficiency\n",
    "d_eta_2 = 0.97  # Gearbox efficiency\n",
    "d_eta = d_eta_1 * d_eta_2  # Drive efficiency\n",
    "\n",
    "# p_a: Drive motor power requirements\n",
    "p_m = p_a / d_eta\n",
    "print(f\"p_m:\\t{p_m / 1000:.2f} kW\")"
   ],
   "metadata": {
    "collapsed": false,
    "pycharm": {
     "name": "#%%\n"
    }
   }
  },
  {
   "cell_type": "code",
   "execution_count": 11,
   "outputs": [
    {
     "name": "stdout",
     "output_type": "stream",
     "text": [
      "t_2:\t8471.83 N\n",
      "t_1:\t21704.14 N\n",
      "2.562 >= 2.562, True\n"
     ]
    }
   ],
   "source": [
    "# Drive pulley\n",
    "# Calculate the minimum tensile force (t_2) that must be maintained to transmit f_u\n",
    "mu_b = 0.3  # Belt/Pulley friction coefficient\n",
    "wrap_ang = 180\n",
    "wrap_rad = wrap_ang * (math.pi / 180)\n",
    "t_2 = f_u / ((math.e * mu_b * wrap_rad) - 1)\n",
    "print(f\"t_2:\\t{t_2:.2f} N\")\n",
    "\n",
    "# Calculate the tensile force (t_1)\n",
    "t_1 = f_u + t_2\n",
    "print(f\"t_1:\\t{t_1:.2f} N\")\n",
    "\n",
    "# Ensure the ratio (t_1 t_2) >= e(mu_b * wrap_rad)\n",
    "t_d_rat = t_1 / t_2\n",
    "t_d_rat_min = math.e * mu_b * wrap_rad\n",
    "t_d_min_ok = t_d_rat >= t_d_rat_min\n",
    "print(f\"{t_d_rat:.3f} >= {t_d_rat_min:.3f}, {t_d_min_ok}\")  # Ok"
   ],
   "metadata": {
    "collapsed": false,
    "pycharm": {
     "name": "#%%\n"
    }
   }
  },
  {
   "cell_type": "code",
   "execution_count": 12,
   "outputs": [
    {
     "name": "stdout",
     "output_type": "stream",
     "text": [
      "t_1:\t35237.40 N\n",
      "1.601 >= 2.562, False\n"
     ]
    }
   ],
   "source": [
    "# Tail pulley\n",
    "# Calculate the minimum belt tension that should be maintained in order to avoid belt sag\n",
    "# Set t_2 to f_bs_min_o\n",
    "t_2 = f_bs_min_o\n",
    "\n",
    "# Calculate the tensile force (t_1)\n",
    "t_1 = f_u + t_2\n",
    "print(f\"t_1:\\t{t_1:.2f} N\")\n",
    "\n",
    "# Ensure the ratio (t_1 t_2) >= e(mu_b * wrap_rad)\n",
    "t_t_rat = t_1 / t_2\n",
    "t_t_rat_min = t_d_rat_min\n",
    "t_t_min_ok = t_t_rat >= t_t_rat_min\n",
    "print(f\"{t_t_rat:.3f} >= {t_t_rat_min:.3f}, {t_t_min_ok}\")  # Not satisfied"
   ],
   "metadata": {
    "collapsed": false,
    "pycharm": {
     "name": "#%%\n"
    }
   }
  },
  {
   "cell_type": "code",
   "execution_count": 13,
   "outputs": [
    {
     "name": "stdout",
     "output_type": "stream",
     "text": [
      "f_1_td:\t153 N\n",
      "f_1_tt:\t141 N\n"
     ]
    }
   ],
   "source": [
    "# Use values from ISO 5048 to calculate a more exact value for wrap resistance\n",
    "def pulley_bearing_resistance(B, d, d_0, D, m_p, t_1, t_2):\n",
    "    t_d = (t_1 + t_2) / 2\n",
    "    f_1 = 9 * B * (140 + (0.01 * t_d / B)) * d / D\n",
    "    f_t = 0.005 * (d_0 / D) * (((t_1 + t_2) ** 2) + (g * m_p) ** 2) ** (1 / 2)\n",
    "    return f_1 + f_t\n",
    "\n",
    "\n",
    "# Drive pulley tension\n",
    "d_0_d = 0.14  # Diameter of inside bearing\n",
    "D_d = 0.6  # Drive pulley diameter\n",
    "m_p_d = 1050  # Drive pulley mass\n",
    "f_1_td = pulley_bearing_resistance(B, 0.0125, d_0_d, D_d, m_p_d, t_1, t_2)\n",
    "print(f\"f_1_td:\\t{f_1_td:.0f} N\")\n",
    "\n",
    "# Tail pulley tension\n",
    "d_0_t = 0.12  # Diameter of inside bearing\n",
    "D_t = 0.5  # Tail pulley diameter\n",
    "m_p_t = 800  # Tail pulley mass\n",
    "f_1_tt = pulley_bearing_resistance(B, 0.0125, d_0_t, D_t, m_p_t, t_2, t_2)\n",
    "print(f\"f_1_tt:\\t{f_1_tt:.0f} N\")"
   ],
   "metadata": {
    "collapsed": false,
    "pycharm": {
     "name": "#%%\n"
    }
   }
  },
  {
   "cell_type": "code",
   "execution_count": 14,
   "outputs": [
    {
     "name": "stdout",
     "output_type": "stream",
     "text": [
      "f_n:\t5751 N\n",
      "f_u:\t12806 N\n",
      "p_a:\t61.47 kW\n",
      "p_m:\t66.71 kW\n"
     ]
    }
   ],
   "source": [
    "# f_n: Secondary resistance\n",
    "f_n = f_ba + f_f + f_1_td + f_1_tt\n",
    "print(f\"f_n:\\t{f_n:.0f} N\")\n",
    "# f_u: Peripheral driving force\n",
    "f_u = f_h + f_n + f_s\n",
    "print(f\"f_u:\\t{f_u:.0f} N\")\n",
    "# p_a: Operating power requirements\n",
    "p_a = f_u * v / 1000\n",
    "print(f\"p_a:\\t{p_a:.2f} kW\")\n",
    "# p_m: Power at drive motor\n",
    "p_m = p_a / d_eta\n",
    "print(f\"p_m:\\t{p_m:.2f} kW\")"
   ],
   "metadata": {
    "collapsed": false,
    "pycharm": {
     "name": "#%%\n"
    }
   }
  },
  {
   "cell_type": "code",
   "execution_count": 14,
   "outputs": [],
   "source": [],
   "metadata": {
    "collapsed": false,
    "pycharm": {
     "name": "#%%\n"
    }
   }
  }
 ],
 "metadata": {
  "kernelspec": {
   "display_name": "Python 3",
   "language": "python",
   "name": "python3"
  },
  "language_info": {
   "codemirror_mode": {
    "name": "ipython",
    "version": 2
   },
   "file_extension": ".py",
   "mimetype": "text/x-python",
   "name": "python",
   "nbconvert_exporter": "python",
   "pygments_lexer": "ipython2",
   "version": "2.7.6"
  }
 },
 "nbformat": 4,
 "nbformat_minor": 0
}